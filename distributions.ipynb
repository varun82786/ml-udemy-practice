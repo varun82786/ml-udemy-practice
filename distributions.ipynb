{
 "cells": [
  {
   "cell_type": "markdown",
   "id": "86ab54bc",
   "metadata": {},
   "source": [
    "# uniform dist"
   ]
  },
  {
   "cell_type": "code",
   "execution_count": null,
   "id": "893faa4e",
   "metadata": {},
   "outputs": [],
   "source": [
    "import numpy as np\n",
    "import matplotlib.pyplot as plt\n",
    "\n",
    "values=np.random.uniform(-10,10,100)\n",
    "plt.hist(values,1000)\n",
    "plt.show()"
   ]
  },
  {
   "cell_type": "code",
   "execution_count": null,
   "id": "51eaa329",
   "metadata": {},
   "outputs": [],
   "source": []
  }
 ],
 "metadata": {
  "kernelspec": {
   "display_name": "Python 3 (ipykernel)",
   "language": "python",
   "name": "python3"
  },
  "language_info": {
   "codemirror_mode": {
    "name": "ipython",
    "version": 3
   },
   "file_extension": ".py",
   "mimetype": "text/x-python",
   "name": "python",
   "nbconvert_exporter": "python",
   "pygments_lexer": "ipython3",
   "version": "3.9.9"
  }
 },
 "nbformat": 4,
 "nbformat_minor": 5
}
